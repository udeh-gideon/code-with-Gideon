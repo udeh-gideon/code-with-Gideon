{
 "cells": [
  {
   "cell_type": "markdown",
   "id": "77d39fa7",
   "metadata": {
    "papermill": {
     "duration": 0.003006,
     "end_time": "2023-10-04T22:52:46.126005",
     "exception": false,
     "start_time": "2023-10-04T22:52:46.122999",
     "status": "completed"
    },
    "tags": []
   },
   "source": [
    "Huge Stock Market Prediction Project.\n",
    "Started on: 04-October-2023.\n",
    "\n",
    "Task: To successfully predict the stock market's ups and downs.\n",
    "\n",
    "Data set courtesy of Boris Marjanovic."
   ]
  },
  {
   "cell_type": "code",
   "execution_count": 1,
   "id": "2110e60e",
   "metadata": {
    "execution": {
     "iopub.execute_input": "2023-10-04T22:52:46.135464Z",
     "iopub.status.busy": "2023-10-04T22:52:46.134782Z",
     "iopub.status.idle": "2023-10-04T22:52:48.717363Z",
     "shell.execute_reply": "2023-10-04T22:52:48.716431Z"
    },
    "papermill": {
     "duration": 2.591016,
     "end_time": "2023-10-04T22:52:48.720092",
     "exception": false,
     "start_time": "2023-10-04T22:52:46.129076",
     "status": "completed"
    },
    "tags": []
   },
   "outputs": [],
   "source": [
    "# importing useful libraries\n",
    "import numpy as np\n",
    "import pandas as pd\n",
    "import matplotlib.pyplot as plt\n",
    "import seaborn as sns\n",
    "from sklearn.linear_model import LinearRegression # For linear regression\n",
    "from sklearn.ensemble import RandomForestRegressor # For Random Forest\n",
    "from sklearn.tree import DecisionTreeRegressor # For Decision Tree\n",
    "from sklearn.neighbors import KNeighborsRegressor # For K-Nearest-Neighbor\n",
    "from sklearn.svm import SVR # For support vector machine\n",
    "from sklearn.model_selection import train_test_split\n",
    "from sklearn.metrics import mean_squared_error, r2_score, mean_absolute_error\n",
    "\n",
    "%matplotlib inline"
   ]
  },
  {
   "cell_type": "markdown",
   "id": "1d27463b",
   "metadata": {
    "papermill": {
     "duration": 0.002182,
     "end_time": "2023-10-04T22:52:48.724989",
     "exception": false,
     "start_time": "2023-10-04T22:52:48.722807",
     "status": "completed"
    },
    "tags": []
   },
   "source": [
    "Loading the CSV file"
   ]
  },
  {
   "cell_type": "code",
   "execution_count": 2,
   "id": "bcbb669b",
   "metadata": {
    "execution": {
     "iopub.execute_input": "2023-10-04T22:52:48.731294Z",
     "iopub.status.busy": "2023-10-04T22:52:48.730805Z",
     "iopub.status.idle": "2023-10-04T22:52:48.819912Z",
     "shell.execute_reply": "2023-10-04T22:52:48.818840Z"
    },
    "papermill": {
     "duration": 0.094866,
     "end_time": "2023-10-04T22:52:48.822111",
     "exception": false,
     "start_time": "2023-10-04T22:52:48.727245",
     "status": "completed"
    },
    "tags": []
   },
   "outputs": [],
   "source": [
    "path = '/kaggle/input/price-volume-data-for-all-us-stocks-etfs/Stocks/a.us.txt'\n",
    "data = pd.read_csv(path)"
   ]
  },
  {
   "cell_type": "markdown",
   "id": "f5fc594d",
   "metadata": {
    "papermill": {
     "duration": 0.002038,
     "end_time": "2023-10-04T22:52:48.826620",
     "exception": false,
     "start_time": "2023-10-04T22:52:48.824582",
     "status": "completed"
    },
    "tags": []
   },
   "source": [
    "Performing Data Preprocessing tasks"
   ]
  },
  {
   "cell_type": "code",
   "execution_count": 3,
   "id": "6e3b8901",
   "metadata": {
    "execution": {
     "iopub.execute_input": "2023-10-04T22:52:48.833145Z",
     "iopub.status.busy": "2023-10-04T22:52:48.832471Z",
     "iopub.status.idle": "2023-10-04T22:52:48.857042Z",
     "shell.execute_reply": "2023-10-04T22:52:48.855928Z"
    },
    "papermill": {
     "duration": 0.029918,
     "end_time": "2023-10-04T22:52:48.859017",
     "exception": false,
     "start_time": "2023-10-04T22:52:48.829099",
     "status": "completed"
    },
    "tags": []
   },
   "outputs": [
    {
     "data": {
      "text/html": [
       "<div>\n",
       "<style scoped>\n",
       "    .dataframe tbody tr th:only-of-type {\n",
       "        vertical-align: middle;\n",
       "    }\n",
       "\n",
       "    .dataframe tbody tr th {\n",
       "        vertical-align: top;\n",
       "    }\n",
       "\n",
       "    .dataframe thead th {\n",
       "        text-align: right;\n",
       "    }\n",
       "</style>\n",
       "<table border=\"1\" class=\"dataframe\">\n",
       "  <thead>\n",
       "    <tr style=\"text-align: right;\">\n",
       "      <th></th>\n",
       "      <th>Date</th>\n",
       "      <th>Open</th>\n",
       "      <th>High</th>\n",
       "      <th>Low</th>\n",
       "      <th>Close</th>\n",
       "      <th>Volume</th>\n",
       "      <th>OpenInt</th>\n",
       "    </tr>\n",
       "  </thead>\n",
       "  <tbody>\n",
       "    <tr>\n",
       "      <th>0</th>\n",
       "      <td>1999-11-18</td>\n",
       "      <td>30.713</td>\n",
       "      <td>33.754</td>\n",
       "      <td>27.002</td>\n",
       "      <td>29.702</td>\n",
       "      <td>66277506</td>\n",
       "      <td>0</td>\n",
       "    </tr>\n",
       "    <tr>\n",
       "      <th>1</th>\n",
       "      <td>1999-11-19</td>\n",
       "      <td>28.986</td>\n",
       "      <td>29.027</td>\n",
       "      <td>26.872</td>\n",
       "      <td>27.257</td>\n",
       "      <td>16142920</td>\n",
       "      <td>0</td>\n",
       "    </tr>\n",
       "    <tr>\n",
       "      <th>2</th>\n",
       "      <td>1999-11-22</td>\n",
       "      <td>27.886</td>\n",
       "      <td>29.702</td>\n",
       "      <td>27.044</td>\n",
       "      <td>29.702</td>\n",
       "      <td>6970266</td>\n",
       "      <td>0</td>\n",
       "    </tr>\n",
       "    <tr>\n",
       "      <th>3</th>\n",
       "      <td>1999-11-23</td>\n",
       "      <td>28.688</td>\n",
       "      <td>29.446</td>\n",
       "      <td>27.002</td>\n",
       "      <td>27.002</td>\n",
       "      <td>6332082</td>\n",
       "      <td>0</td>\n",
       "    </tr>\n",
       "    <tr>\n",
       "      <th>4</th>\n",
       "      <td>1999-11-24</td>\n",
       "      <td>27.083</td>\n",
       "      <td>28.309</td>\n",
       "      <td>27.002</td>\n",
       "      <td>27.717</td>\n",
       "      <td>5132147</td>\n",
       "      <td>0</td>\n",
       "    </tr>\n",
       "  </tbody>\n",
       "</table>\n",
       "</div>"
      ],
      "text/plain": [
       "         Date    Open    High     Low   Close    Volume  OpenInt\n",
       "0  1999-11-18  30.713  33.754  27.002  29.702  66277506        0\n",
       "1  1999-11-19  28.986  29.027  26.872  27.257  16142920        0\n",
       "2  1999-11-22  27.886  29.702  27.044  29.702   6970266        0\n",
       "3  1999-11-23  28.688  29.446  27.002  27.002   6332082        0\n",
       "4  1999-11-24  27.083  28.309  27.002  27.717   5132147        0"
      ]
     },
     "execution_count": 3,
     "metadata": {},
     "output_type": "execute_result"
    }
   ],
   "source": [
    "# displaying 1st 5 rows of the data set\n",
    "data.head()"
   ]
  },
  {
   "cell_type": "code",
   "execution_count": 4,
   "id": "f5858e91",
   "metadata": {
    "execution": {
     "iopub.execute_input": "2023-10-04T22:52:48.865010Z",
     "iopub.status.busy": "2023-10-04T22:52:48.864708Z",
     "iopub.status.idle": "2023-10-04T22:52:48.889582Z",
     "shell.execute_reply": "2023-10-04T22:52:48.888097Z"
    },
    "papermill": {
     "duration": 0.030162,
     "end_time": "2023-10-04T22:52:48.891696",
     "exception": false,
     "start_time": "2023-10-04T22:52:48.861534",
     "status": "completed"
    },
    "tags": []
   },
   "outputs": [
    {
     "name": "stdout",
     "output_type": "stream",
     "text": [
      "<class 'pandas.core.frame.DataFrame'>\n",
      "RangeIndex: 4521 entries, 0 to 4520\n",
      "Data columns (total 7 columns):\n",
      " #   Column   Non-Null Count  Dtype  \n",
      "---  ------   --------------  -----  \n",
      " 0   Date     4521 non-null   object \n",
      " 1   Open     4521 non-null   float64\n",
      " 2   High     4521 non-null   float64\n",
      " 3   Low      4521 non-null   float64\n",
      " 4   Close    4521 non-null   float64\n",
      " 5   Volume   4521 non-null   int64  \n",
      " 6   OpenInt  4521 non-null   int64  \n",
      "dtypes: float64(4), int64(2), object(1)\n",
      "memory usage: 247.4+ KB\n"
     ]
    }
   ],
   "source": [
    "data.info()"
   ]
  },
  {
   "cell_type": "code",
   "execution_count": 5,
   "id": "3ea308f2",
   "metadata": {
    "execution": {
     "iopub.execute_input": "2023-10-04T22:52:48.898263Z",
     "iopub.status.busy": "2023-10-04T22:52:48.897913Z",
     "iopub.status.idle": "2023-10-04T22:52:48.924722Z",
     "shell.execute_reply": "2023-10-04T22:52:48.923680Z"
    },
    "papermill": {
     "duration": 0.032549,
     "end_time": "2023-10-04T22:52:48.926942",
     "exception": false,
     "start_time": "2023-10-04T22:52:48.894393",
     "status": "completed"
    },
    "tags": []
   },
   "outputs": [
    {
     "data": {
      "text/html": [
       "<div>\n",
       "<style scoped>\n",
       "    .dataframe tbody tr th:only-of-type {\n",
       "        vertical-align: middle;\n",
       "    }\n",
       "\n",
       "    .dataframe tbody tr th {\n",
       "        vertical-align: top;\n",
       "    }\n",
       "\n",
       "    .dataframe thead th {\n",
       "        text-align: right;\n",
       "    }\n",
       "</style>\n",
       "<table border=\"1\" class=\"dataframe\">\n",
       "  <thead>\n",
       "    <tr style=\"text-align: right;\">\n",
       "      <th></th>\n",
       "      <th>Open</th>\n",
       "      <th>High</th>\n",
       "      <th>Low</th>\n",
       "      <th>Close</th>\n",
       "      <th>Volume</th>\n",
       "      <th>OpenInt</th>\n",
       "    </tr>\n",
       "  </thead>\n",
       "  <tbody>\n",
       "    <tr>\n",
       "      <th>count</th>\n",
       "      <td>4521.000000</td>\n",
       "      <td>4521.000000</td>\n",
       "      <td>4521.000000</td>\n",
       "      <td>4521.000000</td>\n",
       "      <td>4.521000e+03</td>\n",
       "      <td>4521.0</td>\n",
       "    </tr>\n",
       "    <tr>\n",
       "      <th>mean</th>\n",
       "      <td>27.856296</td>\n",
       "      <td>28.270442</td>\n",
       "      <td>27.452486</td>\n",
       "      <td>27.871357</td>\n",
       "      <td>3.993503e+06</td>\n",
       "      <td>0.0</td>\n",
       "    </tr>\n",
       "    <tr>\n",
       "      <th>std</th>\n",
       "      <td>12.940880</td>\n",
       "      <td>13.176000</td>\n",
       "      <td>12.711735</td>\n",
       "      <td>12.944389</td>\n",
       "      <td>2.665730e+06</td>\n",
       "      <td>0.0</td>\n",
       "    </tr>\n",
       "    <tr>\n",
       "      <th>min</th>\n",
       "      <td>7.223100</td>\n",
       "      <td>7.513900</td>\n",
       "      <td>7.087800</td>\n",
       "      <td>7.323800</td>\n",
       "      <td>0.000000e+00</td>\n",
       "      <td>0.0</td>\n",
       "    </tr>\n",
       "    <tr>\n",
       "      <th>25%</th>\n",
       "      <td>19.117000</td>\n",
       "      <td>19.435000</td>\n",
       "      <td>18.780000</td>\n",
       "      <td>19.089000</td>\n",
       "      <td>2.407862e+06</td>\n",
       "      <td>0.0</td>\n",
       "    </tr>\n",
       "    <tr>\n",
       "      <th>50%</th>\n",
       "      <td>24.456000</td>\n",
       "      <td>24.809000</td>\n",
       "      <td>24.159000</td>\n",
       "      <td>24.490000</td>\n",
       "      <td>3.460621e+06</td>\n",
       "      <td>0.0</td>\n",
       "    </tr>\n",
       "    <tr>\n",
       "      <th>75%</th>\n",
       "      <td>36.502000</td>\n",
       "      <td>37.046000</td>\n",
       "      <td>35.877000</td>\n",
       "      <td>36.521000</td>\n",
       "      <td>4.849809e+06</td>\n",
       "      <td>0.0</td>\n",
       "    </tr>\n",
       "    <tr>\n",
       "      <th>max</th>\n",
       "      <td>105.300000</td>\n",
       "      <td>109.370000</td>\n",
       "      <td>97.881000</td>\n",
       "      <td>107.320000</td>\n",
       "      <td>6.627751e+07</td>\n",
       "      <td>0.0</td>\n",
       "    </tr>\n",
       "  </tbody>\n",
       "</table>\n",
       "</div>"
      ],
      "text/plain": [
       "              Open         High          Low        Close        Volume  \\\n",
       "count  4521.000000  4521.000000  4521.000000  4521.000000  4.521000e+03   \n",
       "mean     27.856296    28.270442    27.452486    27.871357  3.993503e+06   \n",
       "std      12.940880    13.176000    12.711735    12.944389  2.665730e+06   \n",
       "min       7.223100     7.513900     7.087800     7.323800  0.000000e+00   \n",
       "25%      19.117000    19.435000    18.780000    19.089000  2.407862e+06   \n",
       "50%      24.456000    24.809000    24.159000    24.490000  3.460621e+06   \n",
       "75%      36.502000    37.046000    35.877000    36.521000  4.849809e+06   \n",
       "max     105.300000   109.370000    97.881000   107.320000  6.627751e+07   \n",
       "\n",
       "       OpenInt  \n",
       "count   4521.0  \n",
       "mean       0.0  \n",
       "std        0.0  \n",
       "min        0.0  \n",
       "25%        0.0  \n",
       "50%        0.0  \n",
       "75%        0.0  \n",
       "max        0.0  "
      ]
     },
     "execution_count": 5,
     "metadata": {},
     "output_type": "execute_result"
    }
   ],
   "source": [
    "data.describe()"
   ]
  },
  {
   "cell_type": "code",
   "execution_count": null,
   "id": "0da15edb",
   "metadata": {
    "papermill": {
     "duration": 0.002647,
     "end_time": "2023-10-04T22:52:48.932590",
     "exception": false,
     "start_time": "2023-10-04T22:52:48.929943",
     "status": "completed"
    },
    "tags": []
   },
   "outputs": [],
   "source": []
  }
 ],
 "metadata": {
  "kernelspec": {
   "display_name": "Python 3",
   "language": "python",
   "name": "python3"
  },
  "language_info": {
   "codemirror_mode": {
    "name": "ipython",
    "version": 3
   },
   "file_extension": ".py",
   "mimetype": "text/x-python",
   "name": "python",
   "nbconvert_exporter": "python",
   "pygments_lexer": "ipython3",
   "version": "3.10.12"
  },
  "papermill": {
   "default_parameters": {},
   "duration": 6.440857,
   "end_time": "2023-10-04T22:52:49.556292",
   "environment_variables": {},
   "exception": null,
   "input_path": "__notebook__.ipynb",
   "output_path": "__notebook__.ipynb",
   "parameters": {},
   "start_time": "2023-10-04T22:52:43.115435",
   "version": "2.4.0"
  }
 },
 "nbformat": 4,
 "nbformat_minor": 5
}
