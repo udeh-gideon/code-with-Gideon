{
  "cells": [
    {
      "cell_type": "markdown",
      "metadata": {
        "id": "view-in-github",
        "colab_type": "text"
      },
      "source": [
        "<a href=\"https://colab.research.google.com/github/udeh-gideon/code-with-Gideon/blob/main/Guessing_Game.ipynb\" target=\"_parent\"><img src=\"https://colab.research.google.com/assets/colab-badge.svg\" alt=\"Open In Colab\"/></a>"
      ]
    },
    {
      "cell_type": "markdown",
      "metadata": {
        "id": "hEWqll3yjUJi"
      },
      "source": [
        "Guessing Game by Code-with-Gideon Academy\n",
        "\n",
        "How to play: Think of a number between 1 and 100. You have 10 chances to guess accurately. Goodluck!"
      ]
    },
    {
      "cell_type": "code",
      "execution_count": 1,
      "metadata": {
        "colab": {
          "base_uri": "https://localhost:8080/"
        },
        "id": "b9aO1Sz4jOPh",
        "outputId": "bfc6870e-9ce6-4f7d-8ffa-ef125d77afd7"
      },
      "outputs": [
        {
          "output_type": "stream",
          "name": "stdout",
          "text": [
            "@@@@@@@@@@@@@@@@@@@@\n",
            "Guess_the_number_Game\n",
            "\n",
            "Have fun playing...\n",
            "@@@@@@@@@@@@@@@@@@@@\n",
            "@@@@@@@@@@@@@@@@@@@@\n",
            "Enter player name: fin\n",
            "@@@@@@@@@@@@@@@@@@@@\n",
            "\n",
            "Welcome fin!\n",
            "@@@@@@@@@@@@@@@@@@@@\n",
            "\n",
            "I am thinking of a number between 1 and 100.\n",
            "You have 10 guesses left. Take a guess.\n",
            "Enter your guess: 40\n",
            "\n",
            "Your guess is too high. Try again!\n",
            "You have 9 guesses left. Take a guess.\n",
            "Enter your guess: 20\n",
            "\n",
            "Your guess is too high. Try again!\n",
            "You have 8 guesses left. Take a guess.\n",
            "Enter your guess: 10\n",
            "\n",
            "Your guess is too low. Try again!\n",
            "You have 7 guesses left. Take a guess.\n",
            "Enter your guess: 15\n",
            "\n",
            "Your guess is too low. Try again!\n",
            "You have 6 guesses left. Take a guess.\n",
            "Enter your guess: 19\n",
            "\n",
            "Your guess is too high. Try again!\n",
            "You have 5 guesses left. Take a guess.\n",
            "Enter your guess: 16\n",
            "\n",
            "Your guess is too low. Try again!\n",
            "You have 4 guesses left. Take a guess.\n",
            "Enter your guess: 17\n",
            "@@@@@@@@@@@@@@@@@@@@\n",
            "\n",
            "Hurray! You guessed correctly.\n",
            "@@@@@@@@@@@@@@@@@@@@\n",
            "Do you want to play again? (yes/no): no\n",
            "@@@@@@@@@@@@@@@@@@@@\n",
            "Good Bye, fin!\n",
            "Guess_the_number_Game! \n",
            "Brought to you courtesy of code-with-Gideon Academy\n",
            "@@@@@@@@@@@@@@@@@@@@\n"
          ]
        }
      ],
      "source": [
        "'''\n",
        "Guess the number based on hints provided. Have fun playing!\n",
        "'''\n",
        "# import random module\n",
        "import random\n",
        "\n",
        "# Welcome screen\n",
        "print('@'*20)\n",
        "print('Guess_the_number_Game')\n",
        "print('\\nHave fun playing...')\n",
        "print('@'*20)\n",
        "\n",
        "# The Games engine\n",
        "def Guess_the_number_Game():\n",
        "  # Get player name\n",
        "  print('@'*20)\n",
        "  player_name = input('Enter player name: ')\n",
        "  print('@'*20)\n",
        "  print(f'\\nWelcome {player_name}!')\n",
        "  print('@'*20)\n",
        "\n",
        "  # creating the game function\n",
        "  def requestGuess():\n",
        "    while True:\n",
        "      guess = input('Enter your guess: ')\n",
        "\n",
        "      if guess.isdecimal():\n",
        "        return int(guess)\n",
        "      print('Please enter a number between 1 and 100.')\n",
        "\n",
        "  # creating the secret number\n",
        "  mystery_number = random.randint(1, 100)\n",
        "  print('\\nI am thinking of a number between 1 and 100.')\n",
        "\n",
        "  # creating number of tries/attempts (10)\n",
        "  for i in range(10):\n",
        "    # count = tries - 1\n",
        "    print('You have {} guesses left. Take a guess.'.format(10 - i))\n",
        "\n",
        "    guess = requestGuess()\n",
        "    if guess == mystery_number:\n",
        "      break\n",
        "\n",
        "    # Hints:\n",
        "    if guess < mystery_number:\n",
        "      print('\\nYour guess is too low. Try again!')\n",
        "    if guess > mystery_number:\n",
        "      print('\\nYour guess is too high. Try again!')\n",
        "\n",
        "  # Reveal results:\n",
        "  if guess == mystery_number:\n",
        "    print('@'*20)\n",
        "    print('\\nHurray! You guessed correctly.')\n",
        "    print('@'*20)\n",
        "  else:\n",
        "    print('@'*20)\n",
        "    print(f'Ooops, Game over! \\nThe number I was thinking of was {mystery_number}')\n",
        "    print('@'*20)\n",
        "\n",
        "  # replay\n",
        "  replay = input('Do you want to play again? (yes/no): ')\n",
        "  while replay.lower() == 'yes':\n",
        "    Guess_the_number_Game()\n",
        "    break\n",
        "  else:\n",
        "    print('@'*20)\n",
        "    print(f'Good Bye, {player_name}!\\nGuess_the_number_Game! \\nBrought to you courtesy of code-with-Gideon Academy')\n",
        "    print('@'*20)\n",
        "\n",
        "Guess_the_number_Game()"
      ]
    }
  ],
  "metadata": {
    "colab": {
      "provenance": [],
      "authorship_tag": "ABX9TyNM2qJ37tkWx7TgZZyT4ipm",
      "include_colab_link": true
    },
    "kernelspec": {
      "display_name": "Python 3",
      "name": "python3"
    },
    "language_info": {
      "name": "python"
    }
  },
  "nbformat": 4,
  "nbformat_minor": 0
}